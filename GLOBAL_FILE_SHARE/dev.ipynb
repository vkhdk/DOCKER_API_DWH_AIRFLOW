{
 "cells": [
  {
   "cell_type": "markdown",
   "id": "ee5fe46c-b89d-4ff9-b542-5a86c6fa8b60",
   "metadata": {},
   "source": [
    "# Заметки"
   ]
  },
  {
   "cell_type": "markdown",
   "id": "3af03cb1-9637-47b9-89b0-ce475e755755",
   "metadata": {},
   "source": [
    "# DEV clean"
   ]
  },
  {
   "cell_type": "code",
   "execution_count": 1,
   "id": "fe37fd86-e1b4-4ac6-8a95-04664e31b222",
   "metadata": {},
   "outputs": [],
   "source": [
    "from flask_sqlalchemy import SQLAlchemy\n",
    "from sqlalchemy import create_engine, Table, Column, Integer, String, MetaData, Float, Date, ForeignKey, inspect\n",
    "from sqlalchemy import text\n",
    "from sqlalchemy.ext.declarative import declarative_base\n",
    "from sqlalchemy.orm import sessionmaker\n",
    "import datetime\n",
    "import random\n",
    "import statistics\n",
    "from itertools import product\n",
    "import os"
   ]
  },
  {
   "cell_type": "code",
   "execution_count": 2,
   "id": "6e4512a8-f427-46c2-b3f1-80a9d3bb4348",
   "metadata": {},
   "outputs": [],
   "source": [
    "from default_settings import (DWH_USER, \n",
    "                              DWH_PASSWORD, \n",
    "                              DWH_HOST, \n",
    "                              dwh_db_name,\n",
    "                              api_db_name,\n",
    "                              source_schema,\n",
    "                              gen_store_schema,\n",
    "                              day_gen_store,\n",
    "                              external_day_gen_store,\n",
    "                              day_gen_visits_config)"
   ]
  },
  {
   "cell_type": "code",
   "execution_count": null,
   "id": "047dee62-2691-41b1-a2d7-0a8af758d4a1",
   "metadata": {},
   "outputs": [],
   "source": []
  },
  {
   "cell_type": "code",
   "execution_count": null,
   "id": "97744e1f-2a57-4920-bf71-f72cd46efb53",
   "metadata": {},
   "outputs": [],
   "source": []
  },
  {
   "cell_type": "code",
   "execution_count": 3,
   "id": "6b73d2f5-7c03-4c93-b99b-7f04a0746188",
   "metadata": {},
   "outputs": [],
   "source": [
    "engine_dwh = create_engine(f'postgresql://{DWH_USER}:{DWH_PASSWORD}@{DWH_HOST}:5432/{dwh_db_name}')\n",
    "engine_api = create_engine(f'postgresql://{DWH_USER}:{DWH_PASSWORD}@{DWH_HOST}:5432/{api_db_name}')"
   ]
  },
  {
   "cell_type": "code",
   "execution_count": 4,
   "id": "5ff042a6-beb5-4024-b536-5a810c1d6b70",
   "metadata": {},
   "outputs": [],
   "source": [
    "default_params = {'source_tables': {\"employers\": {\"id\": {\"type\": \"primary\", \"data_type\": \"Integer\", \"function\": \"all\"}},\n",
    "                                    \"visits\": {\"line_size\": {\"type\": \"extra\", \"data_type\": \"Float\", \"function\": \"random_range\"}},\n",
    "                                    \"product\": {\"id\": {\"type\": \"extra\", \"data_type\": \"Integer\", \"function\": \"all\"}},\n",
    "                                    \"shops\": {\"id\": {\"type\": \"extra\", \"data_type\": \"Integer\", \"function\": \"all\"}} },\n",
    "                  'extra_columns_length_limit': 500,\n",
    "                  'gen_records': 1}"
   ]
  },
  {
   "cell_type": "code",
   "execution_count": 5,
   "id": "ab0377c0-78c7-4783-9daa-e336089419be",
   "metadata": {},
   "outputs": [],
   "source": [
    "target_table_params = {\n",
    "}"
   ]
  },
  {
   "cell_type": "code",
   "execution_count": null,
   "id": "a5b38d91-4bc6-4150-beac-9337ff1976ca",
   "metadata": {},
   "outputs": [],
   "source": []
  },
  {
   "cell_type": "code",
   "execution_count": 6,
   "id": "dc08f99d-5bfb-4a1c-b33a-3f520edfba15",
   "metadata": {},
   "outputs": [],
   "source": [
    "def write_default_params(**kwargs):\n",
    "    #get variables from kwargs\n",
    "    source_tables = str(kwargs['source_tables']).replace('\\'', '\"')\n",
    "    extra_columns_length_limit = kwargs['extra_columns_length_limit']\n",
    "    gen_records = kwargs['gen_records']\n",
    "    current_datetime = datetime.datetime.now()\n",
    "    \n",
    "    filling_default_params_query = (f\"INSERT INTO {gen_store_schema}.{day_gen_visits_config} \"\n",
    "                                    f\"(source_schema, gen_store_schema, day_gen_store, \"\n",
    "                                    f\"external_day_gen_store, source_tables, extra_columns_length_limit, gen_records, dt) \"\n",
    "                                    f\"VALUES ('{source_schema}', '{gen_store_schema}', '{day_gen_store}', '{external_day_gen_store}', \"\n",
    "                                    f\"'{source_tables}', '{extra_columns_length_limit}', '{gen_records}', '{current_datetime}');\"\n",
    "                                   )\n",
    "    with engine_api.begin() as conn:\n",
    "        result = conn.execute(text(filling_default_params_query)) \n",
    "        conn.commit()"
   ]
  },
  {
   "cell_type": "code",
   "execution_count": 7,
   "id": "d3cf48e1-457e-4f3e-8e2b-d44571fb821e",
   "metadata": {},
   "outputs": [],
   "source": [
    "write_default_params(**default_params)"
   ]
  },
  {
   "cell_type": "code",
   "execution_count": 8,
   "id": "600df8ca-743a-486a-a91f-fc279e3ffb8b",
   "metadata": {},
   "outputs": [],
   "source": [
    "def get_last_param():\n",
    "    result_dict = {}\n",
    "    get_params_query = f'SELECT * FROM {gen_store_schema}.{day_gen_visits_config} ORDER BY {day_gen_visits_config}.dt DESC LIMIT 1;'\n",
    "    with engine_api.connect() as connection:\n",
    "        result = connection.execute(text(get_params_query))\n",
    "        column_names = result.keys()\n",
    "        for row in result:\n",
    "            for column, row in zip(column_names, row):\n",
    "                result_dict[column] = row\n",
    "    return result_dict"
   ]
  },
  {
   "cell_type": "code",
   "execution_count": 9,
   "id": "0475be16-90b6-4240-9bb6-6419fd612a02",
   "metadata": {},
   "outputs": [],
   "source": [
    "current_params = get_last_param()"
   ]
  },
  {
   "cell_type": "code",
   "execution_count": null,
   "id": "877e9116-96c1-4b5a-b2e5-4cdd3cfaad73",
   "metadata": {},
   "outputs": [],
   "source": []
  },
  {
   "cell_type": "code",
   "execution_count": null,
   "id": "3af47cc9-5cdd-4ccc-b198-32806a211fa4",
   "metadata": {},
   "outputs": [],
   "source": []
  },
  {
   "cell_type": "code",
   "execution_count": null,
   "id": "1ee74e21-ef0f-411e-b409-c73c2183e04f",
   "metadata": {},
   "outputs": [],
   "source": []
  },
  {
   "cell_type": "code",
   "execution_count": 10,
   "id": "8dec5da8-c509-4303-91c2-a31a90188f01",
   "metadata": {},
   "outputs": [],
   "source": [
    "def create_generated_data_store_table(**kwargs):\n",
    "    #get variables from kwargs\n",
    "    day_gen_store = kwargs['day_gen_store']\n",
    "    gen_store_schema = kwargs['gen_store_schema']\n",
    "    source_tables = kwargs['source_tables']\n",
    "    #made sqlalchemy obj\n",
    "    #create clean metadata\n",
    "    metadata = MetaData()\n",
    "    #create inspect\n",
    "    inspector_db_api = inspect(engine_api)\n",
    "    \n",
    "    #generate the store table format from params\n",
    "    day_gen_store_columns = []\n",
    "    #add \"id\" and \"date\" attribute\n",
    "    day_gen_store_columns.append(Column(f'id', Integer, primary_key=True))\n",
    "    day_gen_store_columns.append(Column(f'date', Date))\n",
    "    #add all attribute from params\n",
    "    for table_name, columns in source_tables.items():\n",
    "        for column_name, params in columns.items():\n",
    "            day_gen_store_columns.append(Column(f'{table_name}_{column_name}', eval(params['data_type'])))\n",
    "            \n",
    "    day_gen_store_table = Table(f'{day_gen_store}', \n",
    "                                metadata, \n",
    "                                *day_gen_store_columns, \n",
    "                                schema=f'{gen_store_schema}')\n",
    "\n",
    "    #checks\n",
    "    try:\n",
    "        day_gen_store_inspector = inspector_db_api.get_columns(table_name = day_gen_store,\n",
    "                                                               schema = gen_store_schema)\n",
    "        day_gen_store_columns_check = day_gen_store_table.columns.keys()\n",
    "        day_gen_store_inspector_columns_check = [column['name'] for column in day_gen_store_inspector]\n",
    "        if set(day_gen_store_columns_check) == set(day_gen_store_inspector_columns_check):\n",
    "            print(f'table {day_gen_store} without columns changes')\n",
    "        else:\n",
    "            print(f'old columns - >> {day_gen_store_inspector_columns_check}')\n",
    "            print(f'new columns - >> {day_gen_store_columns_check}')\n",
    "            print(f'table {day_gen_store} columns changes')\n",
    "            print(f'create all tables from metadata')\n",
    "            metadata.drop_all(engine_api)\n",
    "            metadata.create_all(engine_api)\n",
    "    except:\n",
    "        print(f'{day_gen_store} сolumn check failed')\n",
    "        metadata.drop_all(engine_api)\n",
    "        print(f'table {day_gen_store} not exist')\n",
    "        print(f'create all tables from metadata')\n",
    "        metadata.create_all(engine_api)\n",
    "        \n",
    "    #return metadata for next steps\n",
    "    return metadata"
   ]
  },
  {
   "cell_type": "code",
   "execution_count": 11,
   "id": "02a0306e-f4a4-4a26-bf92-a87f8a287f6e",
   "metadata": {},
   "outputs": [
    {
     "name": "stdout",
     "output_type": "stream",
     "text": [
      "day_gen_visits сolumn check failed\n",
      "table day_gen_visits not exist\n",
      "create all tables from metadata\n"
     ]
    }
   ],
   "source": [
    "metadata = create_generated_data_store_table(**current_params)"
   ]
  },
  {
   "cell_type": "code",
   "execution_count": 12,
   "id": "a0b5de3c-5da0-4ad1-8210-286d9bb31bff",
   "metadata": {},
   "outputs": [],
   "source": [
    "def check_filling_generated_data_store_table(metadata, **kwargs):\n",
    "    #get variables from kwargs\n",
    "    day_gen_store = kwargs['day_gen_store']\n",
    "    gen_store_schema = kwargs['gen_store_schema']\n",
    "    #get current datetime\n",
    "    current_date = datetime.date.today()\n",
    "    #metadata from params\n",
    "    metadata = metadata\n",
    "\n",
    "    \n",
    "    #tables from metadata\n",
    "    day_gen_store_table = metadata.tables.get(day_gen_store)\n",
    "    \n",
    "    #check day_gen_store filling\n",
    "    check_filling_day_gen_store_query = (f\"SELECT COUNT(*) FROM {gen_store_schema}.{day_gen_store} \"\n",
    "                                        f\"WHERE {gen_store_schema}.{day_gen_store}.date = '{current_date}'\"\n",
    "                                        )\n",
    "    \n",
    "    with engine_api.connect() as conn:\n",
    "        check_filling_day_gen_store_query_result = conn.execute(text(check_filling_day_gen_store_query)).fetchall()\n",
    "    \n",
    "    if check_filling_day_gen_store_query_result[0][0] == 0:\n",
    "        print(f'table {gen_store_schema}.{day_gen_store} does not contain records for the current day.\\n'\n",
    "              f'droping old records and generating new.'\n",
    "             )\n",
    "        day_gen_store_empty = True\n",
    "    else: \n",
    "        day_gen_store_empty = False\n",
    "    return day_gen_store_empty"
   ]
  },
  {
   "cell_type": "code",
   "execution_count": 13,
   "id": "1533d6e3-fdc8-4042-9e8a-3badd7cae131",
   "metadata": {},
   "outputs": [
    {
     "name": "stdout",
     "output_type": "stream",
     "text": [
      "table api.day_gen_visits does not contain records for the current day.\n",
      "droping old records and generating new.\n"
     ]
    },
    {
     "data": {
      "text/plain": [
       "True"
      ]
     },
     "execution_count": 13,
     "metadata": {},
     "output_type": "execute_result"
    }
   ],
   "source": [
    "check_filling_generated_data_store_table(metadata, **current_params)"
   ]
  },
  {
   "cell_type": "code",
   "execution_count": 14,
   "id": "b2d6ca6a-fc02-448b-b0b7-a4600af3ec85",
   "metadata": {},
   "outputs": [
    {
     "data": {
      "text/plain": [
       "{'id': 1,\n",
       " 'source_schema': 'bd_shops',\n",
       " 'gen_store_schema': 'api',\n",
       " 'day_gen_store': 'day_gen_visits',\n",
       " 'external_day_gen_store': 'external_day_gen_visits',\n",
       " 'source_tables': {'employers': {'id': {'type': 'primary',\n",
       "    'data_type': 'Integer',\n",
       "    'function': 'all'}},\n",
       "  'visits': {'line_size': {'type': 'extra',\n",
       "    'data_type': 'Float',\n",
       "    'function': 'random_range'}},\n",
       "  'product': {'id': {'type': 'extra',\n",
       "    'data_type': 'Integer',\n",
       "    'function': 'all'}},\n",
       "  'shops': {'id': {'type': 'extra',\n",
       "    'data_type': 'Integer',\n",
       "    'function': 'all'}}},\n",
       " 'extra_columns_length_limit': 500,\n",
       " 'gen_records': 1,\n",
       " 'dt': datetime.datetime(2024, 3, 27, 14, 2, 1, 860620, tzinfo=datetime.timezone.utc)}"
      ]
     },
     "execution_count": 14,
     "metadata": {},
     "output_type": "execute_result"
    }
   ],
   "source": [
    "current_params"
   ]
  },
  {
   "cell_type": "code",
   "execution_count": 15,
   "id": "253630a2-d64f-4b2d-816a-6ca7a29cd941",
   "metadata": {},
   "outputs": [],
   "source": [
    "def fill_generated_data_store_table(metadata_outside, **kwargs):\n",
    "    #get variables from kwargs\n",
    "    source_schema = kwargs['source_schema']\n",
    "    gen_store_schema = kwargs['gen_store_schema']\n",
    "    day_gen_store = kwargs['day_gen_store']\n",
    "    gen_store_schema = kwargs['gen_store_schema']\n",
    "    source_tables = kwargs['source_tables']\n",
    "    extra_columns_length_limit = kwargs['extra_columns_length_limit']\n",
    "    #get current datetime\n",
    "    current_datetime = datetime.datetime.now()\n",
    "    ex_tables_dict = {}\n",
    "    ex_tables_name_dict = {}\n",
    "    range_columns = {}\n",
    "    day_gen_store_table = metadata_outside.tables[f'{gen_store_schema}.{day_gen_store}']\n",
    "    day_gen_store_columns = day_gen_store_table.columns.keys()\n",
    "    day_gen_store_columns.remove('id')\n",
    "    day_gen_store_columns = ', '.join(day_gen_store_columns)\n",
    "    metadata_local = MetaData()\n",
    "    metadata_local.drop_all(engine_api)\n",
    "    res_target = (f'INSERT INTO {gen_store_schema}.{day_gen_store} ({day_gen_store_columns}) SELECT CURRENT_DATE as date' )\n",
    "    res_select = f''\n",
    "    res_from = f''\n",
    "    \n",
    "    for table_name, columns in source_tables.items():\n",
    "        meta_columns = []\n",
    "        for column_name, params in columns.items():\n",
    "            \n",
    "            if params['function'] == 'random_range':\n",
    "                with engine_dwh.begin() as conn_source:\n",
    "                    get_range_query = f'SELECT min({column_name}), max({column_name}) FROM {source_schema}.{table_name};'\n",
    "                    get_range_query_res = conn_source.execute(text(get_range_query)).fetchall()\n",
    "                    res_select += f', (FLOOR(RANDOM() * ({get_range_query_res[0][1]} - {get_range_query_res[0][0]} + 1) + {get_range_query_res[0][0]})::numeric(5,2)) as {table_name}_{column_name} '\n",
    "                conn_source.commit()  \n",
    "                \n",
    "            if params['function'] == 'all':\n",
    "                if params['type'] == 'primary':\n",
    "                    res_from += f' FROM {gen_store_schema}.ex_{table_name} '\n",
    "                if params['type'] == 'extra':\n",
    "                    res_from += f'CROSS JOIN {gen_store_schema}.ex_{table_name} '\n",
    "                res_select += f', {gen_store_schema}.ex_{table_name}.{table_name}_{column_name} '\n",
    "                \n",
    "                meta_columns.append(Column(f'{table_name}_{column_name}', eval(params['data_type'])))\n",
    "                ex_tables_dict['table'] = Table(f'ex_{table_name}',\n",
    "                                                metadata_local, \n",
    "                                                *meta_columns,\n",
    "                                                schema=f'{gen_store_schema}')\n",
    "                metadata_local.create_all(engine_api)\n",
    "                with engine_dwh.begin() as conn_source:\n",
    "                    \n",
    "                    if params['type'] == 'primary':\n",
    "                        get_values_query = f'SELECT DISTINCT({column_name}) FROM {source_schema}.{table_name};'\n",
    "                        get_values_query_res = conn_source.execute(text(get_values_query)).fetchall()\n",
    "                        \n",
    "                    if params['type'] == 'extra':\n",
    "                        get_values_query = (f'SELECT ({column_name}) FROM {source_schema}.{table_name} ' \n",
    "                                            f'ORDER BY random() LIMIT {extra_columns_length_limit};')\n",
    "                        get_values_query_res = conn_source.execute(text(get_values_query)).fetchall()\n",
    "                    conn_source.commit()\n",
    "            \n",
    "                with engine_api.begin() as conn_target:\n",
    "                    insert_values_query = (f'INSERT INTO {gen_store_schema}.ex_{table_name} ({table_name}_{column_name}) ' \n",
    "                                           f'VALUES {\", \".join([f\"({str(i[0])})\" for i in get_values_query_res])};')\n",
    "                    insert_values_query_res = conn_target.execute(text(insert_values_query))\n",
    "                    \n",
    "                    conn_target.commit()\n",
    "   \n",
    "    with engine_api.begin() as conn_target:\n",
    "        fill_generated_data_store_table_query = (res_target + res_select + res_from + ';')\n",
    "        fill_generated_data_store_table_res = conn_target.execute(text(fill_generated_data_store_table_query))\n",
    "        conn_target.commit()\n",
    "    metadata_local.drop_all(engine_api)"
   ]
  },
  {
   "cell_type": "code",
   "execution_count": 16,
   "id": "9eb99559-5ec7-4790-8569-dc0f34b257c0",
   "metadata": {},
   "outputs": [],
   "source": [
    "#fill_generated_data_store_table(metadata, **current_params)"
   ]
  },
  {
   "cell_type": "code",
   "execution_count": 17,
   "id": "6844985e-5240-42c1-9480-3b59c4b45e04",
   "metadata": {},
   "outputs": [
    {
     "name": "stdout",
     "output_type": "stream",
     "text": [
      "CPU times: user 34.5 ms, sys: 3.28 ms, total: 37.8 ms\n",
      "Wall time: 2min 6s\n"
     ]
    }
   ],
   "source": [
    "%%time\n",
    "fill_generated_data_store_table(metadata, **current_params)"
   ]
  },
  {
   "cell_type": "code",
   "execution_count": 18,
   "id": "636c060b-47b5-4170-b1ce-47e8b9866e4f",
   "metadata": {},
   "outputs": [
    {
     "data": {
      "text/plain": [
       "{'id': 1,\n",
       " 'source_schema': 'bd_shops',\n",
       " 'gen_store_schema': 'api',\n",
       " 'day_gen_store': 'day_gen_visits',\n",
       " 'external_day_gen_store': 'external_day_gen_visits',\n",
       " 'source_tables': {'employers': {'id': {'type': 'primary',\n",
       "    'data_type': 'Integer',\n",
       "    'function': 'all'}},\n",
       "  'visits': {'line_size': {'type': 'extra',\n",
       "    'data_type': 'Float',\n",
       "    'function': 'random_range'}},\n",
       "  'product': {'id': {'type': 'extra',\n",
       "    'data_type': 'Integer',\n",
       "    'function': 'all'}},\n",
       "  'shops': {'id': {'type': 'extra',\n",
       "    'data_type': 'Integer',\n",
       "    'function': 'all'}}},\n",
       " 'extra_columns_length_limit': 500,\n",
       " 'gen_records': 1,\n",
       " 'dt': datetime.datetime(2024, 3, 27, 14, 2, 1, 860620, tzinfo=datetime.timezone.utc)}"
      ]
     },
     "execution_count": 18,
     "metadata": {},
     "output_type": "execute_result"
    }
   ],
   "source": [
    "current_params"
   ]
  },
  {
   "cell_type": "code",
   "execution_count": 19,
   "id": "1f9c639c-9067-4185-992d-0e18965d8260",
   "metadata": {},
   "outputs": [],
   "source": [
    "def fill_visits_table(**kwargs):\n",
    "    source_schema = kwargs['source_schema']\n",
    "    gen_store_schema = kwargs['gen_store_schema']\n",
    "    day_gen_store = kwargs['day_gen_store']\n",
    "    gen_store_schema = kwargs['gen_store_schema']\n",
    "    gen_records = kwargs['gen_records']\n",
    "    external_day_gen_store = kwargs['external_day_gen_store']\n",
    "    incr_file_name = f'visits_incr_{datetime.datetime.now().strftime(\"%Y%m%d_%H%M\")}.csv'\n",
    "    create_fill_ex_table_query = '''\n",
    "        CREATE TABLE {}.{} AS (\n",
    "            SELECT id,\n",
    "                   product_id, \n",
    "                   date as visit_date,\n",
    "                   visits_line_size as line_size,\n",
    "                   employers_id as employer_id,\n",
    "                   shops_id as shop_id\n",
    "            FROM ( \n",
    "                SELECT \n",
    "                dv.id,\n",
    "                dv.employers_id,\n",
    "                dv.date, \n",
    "                dv.visits_line_size, \n",
    "                dv.product_id, \n",
    "                dv.shops_id, \n",
    "                ROW_NUMBER() OVER (\n",
    "                                PARTITION BY dv.employers_id \n",
    "                                ORDER BY RANDOM()) AS rn \n",
    "                FROM api.day_gen_visits dv) AS subquery \n",
    "            WHERE rn <= {});\n",
    "    '''\n",
    "    create_fill_ex_table_query = create_fill_ex_table_query.format(gen_store_schema, external_day_gen_store, gen_records)\n",
    "    \n",
    "    delete_day_gen_store_query = '''\n",
    "        DELETE FROM {gen_store_schema_f}.{day_gen_store_f}\n",
    "            WHERE EXISTS (\n",
    "                SELECT 1\n",
    "                FROM {gen_store_schema_f}.{external_day_gen_store_f}\n",
    "                WHERE {gen_store_schema_f}.{day_gen_store_f}.id = {gen_store_schema_f}.{external_day_gen_store_f}.id);\n",
    "    '''\n",
    "    delete_day_gen_store_query = delete_day_gen_store_query.format(gen_store_schema_f = gen_store_schema, \n",
    "                                                                   day_gen_store_f = day_gen_store, \n",
    "                                                                   external_day_gen_store_f = external_day_gen_store)\n",
    "    \n",
    "    save_visits_incr_query = '''\n",
    "        COPY (\n",
    "            SELECT product_id, \n",
    "                   visit_date,\n",
    "                   line_size,\n",
    "                   employer_id,\n",
    "                   shop_id\n",
    "            FROM {}.{})\n",
    "        TO '/var/lib/postgresql/GLOBAL_FILE_SHARE/{}' WITH CSV HEADER;\n",
    "    '''\n",
    "    save_visits_incr_query = save_visits_incr_query.format(gen_store_schema, external_day_gen_store, incr_file_name)\n",
    "    drop_ex_table_query = f'DROP TABLE {gen_store_schema}.{external_day_gen_store};'\n",
    "    \n",
    "    load_visits_incr_query = '''\n",
    "        COPY bd_shops.visits (product_id, \n",
    "                              visit_date, \n",
    "                              line_size, \n",
    "                              employer_id, \n",
    "                              shop_id)\n",
    "        FROM '/var/lib/postgresql/GLOBAL_FILE_SHARE/{}'\n",
    "        DELIMITER ','\n",
    "        CSV HEADER;\n",
    "    '''\n",
    "    load_visits_incr_query = load_visits_incr_query.format(incr_file_name)\n",
    "    \n",
    "    with engine_api.begin() as conn_api:\n",
    "        create_fill_ex_table_query_res = conn_api.execute(text(create_fill_ex_table_query))\n",
    "        delete_day_gen_store_query_res = conn_api.execute(text(delete_day_gen_store_query))\n",
    "        save_visits_incr_query_res = conn_api.execute(text(save_visits_incr_query))\n",
    "        drop_ex_table_query_res = conn_api.execute(text(drop_ex_table_query))\n",
    "        conn_api.commit()\n",
    "    with engine_dwh.begin() as conn_dwh:\n",
    "        load_visits_incr_query_res = conn_dwh.execute(text(load_visits_incr_query))\n",
    "        conn_dwh.commit()\n",
    "        \n",
    "    #relative_path = \"GLOBAL_FILE_SHARE/\"\n",
    "    #if the script is in the same place as the files\n",
    "    relative_path = \"\"\n",
    "    absolute_path = os.path.join(os.getcwd(), relative_path, incr_file_name)\n",
    "    if os.path.exists(absolute_path):\n",
    "        # Delete the file\n",
    "        os.remove(absolute_path)\n",
    "        print(\"File '{}' has been deleted.\".format(incr_file_name))\n",
    "    else:\n",
    "        print(\"File '{}' does not exist.\".format(incr_file_name))    "
   ]
  },
  {
   "cell_type": "code",
   "execution_count": 21,
   "id": "28252c0f-893c-44a5-bab2-e537053cd164",
   "metadata": {},
   "outputs": [
    {
     "name": "stdout",
     "output_type": "stream",
     "text": [
      "File 'visits_incr_20240327_1407.csv' has been deleted.\n",
      "CPU times: user 4.81 ms, sys: 3.55 ms, total: 8.36 ms\n",
      "Wall time: 21.7 s\n"
     ]
    }
   ],
   "source": [
    "%%time\n",
    "fill_visits_table(**current_params)"
   ]
  },
  {
   "cell_type": "code",
   "execution_count": null,
   "id": "7271917b-df4a-46d1-ac4b-2308c3fa7dc7",
   "metadata": {},
   "outputs": [],
   "source": []
  },
  {
   "cell_type": "code",
   "execution_count": null,
   "id": "a4c34040-6af6-4e1a-b4ed-70f3d147c546",
   "metadata": {},
   "outputs": [],
   "source": []
  }
 ],
 "metadata": {
  "kernelspec": {
   "display_name": "Python 3 (ipykernel)",
   "language": "python",
   "name": "python3"
  },
  "language_info": {
   "codemirror_mode": {
    "name": "ipython",
    "version": 3
   },
   "file_extension": ".py",
   "mimetype": "text/x-python",
   "name": "python",
   "nbconvert_exporter": "python",
   "pygments_lexer": "ipython3",
   "version": "3.9.10"
  }
 },
 "nbformat": 4,
 "nbformat_minor": 5
}
