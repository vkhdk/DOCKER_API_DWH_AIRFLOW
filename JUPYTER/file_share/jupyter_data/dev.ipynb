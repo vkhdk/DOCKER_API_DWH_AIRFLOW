{
 "cells": [
  {
   "cell_type": "markdown",
   "id": "ee5fe46c-b89d-4ff9-b542-5a86c6fa8b60",
   "metadata": {},
   "source": [
    "# Заметки"
   ]
  },
  {
   "cell_type": "markdown",
   "id": "3af03cb1-9637-47b9-89b0-ce475e755755",
   "metadata": {},
   "source": [
    "# DEV clean"
   ]
  },
  {
   "cell_type": "code",
   "execution_count": 22,
   "id": "fe37fd86-e1b4-4ac6-8a95-04664e31b222",
   "metadata": {},
   "outputs": [],
   "source": [
    "from flask_sqlalchemy import SQLAlchemy\n",
    "from sqlalchemy import create_engine, Table, Column, Integer, String, MetaData, Float, Date, ForeignKey, inspect\n",
    "from sqlalchemy import text\n",
    "from sqlalchemy.ext.declarative import declarative_base\n",
    "from sqlalchemy.orm import sessionmaker\n",
    "import datetime\n",
    "import random\n",
    "import statistics\n",
    "from itertools import product\n",
    "import os"
   ]
  },
  {
   "cell_type": "code",
   "execution_count": 2,
   "id": "6e4512a8-f427-46c2-b3f1-80a9d3bb4348",
   "metadata": {},
   "outputs": [],
   "source": [
    "from default_settings import (DWH_USER, \n",
    "                              DWH_PASSWORD, \n",
    "                              DWH_HOST, \n",
    "                              dwh_db_name,\n",
    "                              api_db_name,\n",
    "                              source_schema,\n",
    "                              gen_store_schema,\n",
    "                              day_gen_store,\n",
    "                              external_day_gen_store,\n",
    "                              day_gen_visits_config)"
   ]
  },
  {
   "cell_type": "code",
   "execution_count": null,
   "id": "047dee62-2691-41b1-a2d7-0a8af758d4a1",
   "metadata": {},
   "outputs": [],
   "source": []
  },
  {
   "cell_type": "code",
   "execution_count": null,
   "id": "97744e1f-2a57-4920-bf71-f72cd46efb53",
   "metadata": {},
   "outputs": [],
   "source": []
  },
  {
   "cell_type": "code",
   "execution_count": 3,
   "id": "6b73d2f5-7c03-4c93-b99b-7f04a0746188",
   "metadata": {},
   "outputs": [],
   "source": [
    "engine_dwh = create_engine(f'postgresql://{DWH_USER}:{DWH_PASSWORD}@{DWH_HOST}:5432/{dwh_db_name}')\n",
    "engine_api = create_engine(f'postgresql://{DWH_USER}:{DWH_PASSWORD}@{DWH_HOST}:5432/{api_db_name}')"
   ]
  },
  {
   "cell_type": "code",
   "execution_count": 4,
   "id": "5ff042a6-beb5-4024-b536-5a810c1d6b70",
   "metadata": {},
   "outputs": [],
   "source": [
    "default_params = {'source_tables': {\"employers\": {\"id\": {\"type\": \"primary\", \"data_type\": \"Integer\", \"function\": \"all\"}},\n",
    "                                    \"visits\": {\"line_size\": {\"type\": \"extra\", \"data_type\": \"Float\", \"function\": \"random_range\"}},\n",
    "                                    \"product\": {\"id\": {\"type\": \"extra\", \"data_type\": \"Integer\", \"function\": \"all\"}},\n",
    "                                    \"shops\": {\"id\": {\"type\": \"extra\", \"data_type\": \"Integer\", \"function\": \"all\"}} },\n",
    "                  'extra_columns_length_limit': 500,\n",
    "                  'gen_records': 1}"
   ]
  },
  {
   "cell_type": "code",
   "execution_count": 5,
   "id": "ab0377c0-78c7-4783-9daa-e336089419be",
   "metadata": {},
   "outputs": [],
   "source": [
    "target_table_params = {\n",
    "}"
   ]
  },
  {
   "cell_type": "code",
   "execution_count": null,
   "id": "a5b38d91-4bc6-4150-beac-9337ff1976ca",
   "metadata": {},
   "outputs": [],
   "source": []
  },
  {
   "cell_type": "code",
   "execution_count": 6,
   "id": "dc08f99d-5bfb-4a1c-b33a-3f520edfba15",
   "metadata": {},
   "outputs": [],
   "source": [
    "def write_default_params(**kwargs):\n",
    "    #get variables from kwargs\n",
    "    source_tables = str(kwargs['source_tables']).replace('\\'', '\"')\n",
    "    extra_columns_length_limit = kwargs['extra_columns_length_limit']\n",
    "    gen_records = kwargs['gen_records']\n",
    "    current_datetime = datetime.datetime.now()\n",
    "    \n",
    "    filling_default_params_query = (f\"INSERT INTO {gen_store_schema}.{day_gen_visits_config} \"\n",
    "                                    f\"(source_schema, gen_store_schema, day_gen_store, \"\n",
    "                                    f\"external_day_gen_store, source_tables, extra_columns_length_limit, gen_records, dt) \"\n",
    "                                    f\"VALUES ('{source_schema}', '{gen_store_schema}', '{day_gen_store}', '{external_day_gen_store}', \"\n",
    "                                    f\"'{source_tables}', '{extra_columns_length_limit}', '{gen_records}', '{current_datetime}');\"\n",
    "                                   )\n",
    "    with engine_api.begin() as conn:\n",
    "        result = conn.execute(text(filling_default_params_query)) \n",
    "        conn.commit()"
   ]
  },
  {
   "cell_type": "code",
   "execution_count": 7,
   "id": "d3cf48e1-457e-4f3e-8e2b-d44571fb821e",
   "metadata": {},
   "outputs": [],
   "source": [
    "write_default_params(**default_params)"
   ]
  },
  {
   "cell_type": "code",
   "execution_count": 8,
   "id": "600df8ca-743a-486a-a91f-fc279e3ffb8b",
   "metadata": {},
   "outputs": [],
   "source": [
    "def get_last_param():\n",
    "    result_dict = {}\n",
    "    get_params_query = f'SELECT * FROM {gen_store_schema}.{day_gen_visits_config} ORDER BY {day_gen_visits_config}.dt DESC LIMIT 1;'\n",
    "    with engine_api.connect() as connection:\n",
    "        result = connection.execute(text(get_params_query))\n",
    "        column_names = result.keys()\n",
    "        for row in result:\n",
    "            for column, row in zip(column_names, row):\n",
    "                result_dict[column] = row\n",
    "    return result_dict"
   ]
  },
  {
   "cell_type": "code",
   "execution_count": 9,
   "id": "0475be16-90b6-4240-9bb6-6419fd612a02",
   "metadata": {},
   "outputs": [],
   "source": [
    "current_params = get_last_param()"
   ]
  },
  {
   "cell_type": "code",
   "execution_count": null,
   "id": "877e9116-96c1-4b5a-b2e5-4cdd3cfaad73",
   "metadata": {},
   "outputs": [],
   "source": []
  },
  {
   "cell_type": "code",
   "execution_count": null,
   "id": "3af47cc9-5cdd-4ccc-b198-32806a211fa4",
   "metadata": {},
   "outputs": [],
   "source": []
  },
  {
   "cell_type": "code",
   "execution_count": null,
   "id": "1ee74e21-ef0f-411e-b409-c73c2183e04f",
   "metadata": {},
   "outputs": [],
   "source": []
  },
  {
   "cell_type": "code",
   "execution_count": 10,
   "id": "8dec5da8-c509-4303-91c2-a31a90188f01",
   "metadata": {},
   "outputs": [],
   "source": [
    "def create_generated_data_store_table(**kwargs):\n",
    "    #get variables from kwargs\n",
    "    day_gen_store = kwargs['day_gen_store']\n",
    "    gen_store_schema = kwargs['gen_store_schema']\n",
    "    source_tables = kwargs['source_tables']\n",
    "    #made sqlalchemy obj\n",
    "    #create clean metadata\n",
    "    metadata = MetaData()\n",
    "    #create inspect\n",
    "    inspector_db_api = inspect(engine_api)\n",
    "    \n",
    "    #generate the store table format from params\n",
    "    day_gen_store_columns = []\n",
    "    #add \"id\" and \"date\" attribute\n",
    "    day_gen_store_columns.append(Column(f'id', Integer, primary_key=True))\n",
    "    day_gen_store_columns.append(Column(f'date', Date))\n",
    "    #add all attribute from params\n",
    "    for table_name, columns in source_tables.items():\n",
    "        for column_name, params in columns.items():\n",
    "            day_gen_store_columns.append(Column(f'{table_name}_{column_name}', eval(params['data_type'])))\n",
    "            \n",
    "    day_gen_store_table = Table(f'{day_gen_store}', \n",
    "                                metadata, \n",
    "                                *day_gen_store_columns, \n",
    "                                schema=f'{gen_store_schema}')\n",
    "\n",
    "    #checks\n",
    "    try:\n",
    "        day_gen_store_inspector = inspector_db_api.get_columns(table_name = day_gen_store,\n",
    "                                                               schema = gen_store_schema)\n",
    "        day_gen_store_columns_check = day_gen_store_table.columns.keys()\n",
    "        day_gen_store_inspector_columns_check = [column['name'] for column in day_gen_store_inspector]\n",
    "        if set(day_gen_store_columns_check) == set(day_gen_store_inspector_columns_check):\n",
    "            print(f'table {day_gen_store} without columns changes')\n",
    "        else:\n",
    "            print(f'old columns - >> {day_gen_store_inspector_columns_check}')\n",
    "            print(f'new columns - >> {day_gen_store_columns_check}')\n",
    "            print(f'table {day_gen_store} columns changes')\n",
    "            print(f'create all tables from metadata')\n",
    "            metadata.drop_all(engine_api)\n",
    "            metadata.create_all(engine_api)\n",
    "    except:\n",
    "        print(f'{day_gen_store} сolumn check failed')\n",
    "        metadata.drop_all(engine_api)\n",
    "        print(f'table {day_gen_store} not exist')\n",
    "        print(f'create all tables from metadata')\n",
    "        metadata.create_all(engine_api)\n",
    "        \n",
    "    #return metadata for next steps\n",
    "    return metadata"
   ]
  },
  {
   "cell_type": "code",
   "execution_count": 11,
   "id": "02a0306e-f4a4-4a26-bf92-a87f8a287f6e",
   "metadata": {},
   "outputs": [
    {
     "name": "stdout",
     "output_type": "stream",
     "text": [
      "day_gen_visits сolumn check failed\n",
      "table day_gen_visits not exist\n",
      "create all tables from metadata\n"
     ]
    }
   ],
   "source": [
    "metadata = create_generated_data_store_table(**current_params)"
   ]
  },
  {
   "cell_type": "code",
   "execution_count": 12,
   "id": "a0b5de3c-5da0-4ad1-8210-286d9bb31bff",
   "metadata": {},
   "outputs": [],
   "source": [
    "def check_filling_generated_data_store_table(metadata, **kwargs):\n",
    "    #get variables from kwargs\n",
    "    day_gen_store = kwargs['day_gen_store']\n",
    "    gen_store_schema = kwargs['gen_store_schema']\n",
    "    #get current datetime\n",
    "    current_date = datetime.date.today()\n",
    "    #metadata from params\n",
    "    metadata = metadata\n",
    "\n",
    "    \n",
    "    #tables from metadata\n",
    "    day_gen_store_table = metadata.tables.get(day_gen_store)\n",
    "    \n",
    "    #check day_gen_store filling\n",
    "    check_filling_day_gen_store_query = (f\"SELECT COUNT(*) FROM {gen_store_schema}.{day_gen_store} \"\n",
    "                                        f\"WHERE {gen_store_schema}.{day_gen_store}.date = '{current_date}'\"\n",
    "                                        )\n",
    "    \n",
    "    with engine_api.connect() as conn:\n",
    "        check_filling_day_gen_store_query_result = conn.execute(text(check_filling_day_gen_store_query)).fetchall()\n",
    "    \n",
    "    if check_filling_day_gen_store_query_result[0][0] == 0:\n",
    "        print(f'table {gen_store_schema}.{day_gen_store} does not contain records for the current day.\\n'\n",
    "              f'droping old records and generating new.'\n",
    "             )\n",
    "        day_gen_store_empty = True\n",
    "    else: \n",
    "        day_gen_store_empty = False\n",
    "    return day_gen_store_empty"
   ]
  },
  {
   "cell_type": "code",
   "execution_count": 13,
   "id": "1533d6e3-fdc8-4042-9e8a-3badd7cae131",
   "metadata": {},
   "outputs": [
    {
     "name": "stdout",
     "output_type": "stream",
     "text": [
      "table api.day_gen_visits does not contain records for the current day.\n",
      "droping old records and generating new.\n"
     ]
    },
    {
     "data": {
      "text/plain": [
       "True"
      ]
     },
     "execution_count": 13,
     "metadata": {},
     "output_type": "execute_result"
    }
   ],
   "source": [
    "check_filling_generated_data_store_table(metadata, **current_params)"
   ]
  },
  {
   "cell_type": "code",
   "execution_count": 14,
   "id": "b2d6ca6a-fc02-448b-b0b7-a4600af3ec85",
   "metadata": {},
   "outputs": [
    {
     "data": {
      "text/plain": [
       "{'id': 1,\n",
       " 'source_schema': 'bd_shops',\n",
       " 'gen_store_schema': 'api',\n",
       " 'day_gen_store': 'day_gen_visits',\n",
       " 'external_day_gen_store': 'external_day_gen_visits',\n",
       " 'source_tables': {'employers': {'id': {'type': 'primary',\n",
       "    'data_type': 'Integer',\n",
       "    'function': 'all'}},\n",
       "  'visits': {'line_size': {'type': 'extra',\n",
       "    'data_type': 'Float',\n",
       "    'function': 'random_range'}},\n",
       "  'product': {'id': {'type': 'extra',\n",
       "    'data_type': 'Integer',\n",
       "    'function': 'all'}},\n",
       "  'shops': {'id': {'type': 'extra',\n",
       "    'data_type': 'Integer',\n",
       "    'function': 'all'}}},\n",
       " 'extra_columns_length_limit': 500,\n",
       " 'gen_records': 1,\n",
       " 'dt': datetime.datetime(2024, 3, 26, 14, 58, 0, 110787, tzinfo=datetime.timezone.utc)}"
      ]
     },
     "execution_count": 14,
     "metadata": {},
     "output_type": "execute_result"
    }
   ],
   "source": [
    "current_params"
   ]
  },
  {
   "cell_type": "code",
   "execution_count": 15,
   "id": "253630a2-d64f-4b2d-816a-6ca7a29cd941",
   "metadata": {},
   "outputs": [],
   "source": [
    "def fill_generated_data_store_table(metadata_outside, **kwargs):\n",
    "    #get variables from kwargs\n",
    "    source_schema = kwargs['source_schema']\n",
    "    gen_store_schema = kwargs['gen_store_schema']\n",
    "    day_gen_store = kwargs['day_gen_store']\n",
    "    gen_store_schema = kwargs['gen_store_schema']\n",
    "    source_tables = kwargs['source_tables']\n",
    "    extra_columns_length_limit = kwargs['extra_columns_length_limit']\n",
    "    #get current datetime\n",
    "    current_datetime = datetime.datetime.now()\n",
    "    ex_tables_dict = {}\n",
    "    ex_tables_name_dict = {}\n",
    "    range_columns = {}\n",
    "    day_gen_store_table = metadata_outside.tables[f'{gen_store_schema}.{day_gen_store}']\n",
    "    day_gen_store_columns = day_gen_store_table.columns.keys()\n",
    "    day_gen_store_columns.remove('id')\n",
    "    day_gen_store_columns = ', '.join(day_gen_store_columns)\n",
    "    metadata_local = MetaData()\n",
    "    metadata_local.drop_all(engine_api)\n",
    "    res_target = (f'INSERT INTO {gen_store_schema}.{day_gen_store} ({day_gen_store_columns}) SELECT CURRENT_DATE as date' )\n",
    "    res_select = f''\n",
    "    res_from = f''\n",
    "    \n",
    "    for table_name, columns in source_tables.items():\n",
    "        meta_columns = []\n",
    "        for column_name, params in columns.items():\n",
    "            \n",
    "            if params['function'] == 'random_range':\n",
    "                with engine_dwh.begin() as conn_source:\n",
    "                    get_range_query = f'SELECT min({column_name}), max({column_name}) FROM {source_schema}.{table_name};'\n",
    "                    get_range_query_res = conn_source.execute(text(get_range_query)).fetchall()\n",
    "                    res_select += f', (FLOOR(RANDOM() * ({get_range_query_res[0][1]} - {get_range_query_res[0][0]} + 1) + {get_range_query_res[0][0]})::numeric(5,2)) as {table_name}_{column_name} '\n",
    "                conn_source.commit()  \n",
    "                \n",
    "            if params['function'] == 'all':\n",
    "                if params['type'] == 'primary':\n",
    "                    res_from += f' FROM {gen_store_schema}.ex_{table_name} '\n",
    "                if params['type'] == 'extra':\n",
    "                    res_from += f'CROSS JOIN {gen_store_schema}.ex_{table_name} '\n",
    "                res_select += f', {gen_store_schema}.ex_{table_name}.{table_name}_{column_name} '\n",
    "                \n",
    "                meta_columns.append(Column(f'{table_name}_{column_name}', eval(params['data_type'])))\n",
    "                ex_tables_dict['table'] = Table(f'ex_{table_name}',\n",
    "                                                metadata_local, \n",
    "                                                *meta_columns,\n",
    "                                                schema=f'{gen_store_schema}')\n",
    "                metadata_local.create_all(engine_api)\n",
    "                with engine_dwh.begin() as conn_source:\n",
    "                    \n",
    "                    if params['type'] == 'primary':\n",
    "                        get_values_query = f'SELECT DISTINCT({column_name}) FROM {source_schema}.{table_name};'\n",
    "                        get_values_query_res = conn_source.execute(text(get_values_query)).fetchall()\n",
    "                        \n",
    "                    if params['type'] == 'extra':\n",
    "                        get_values_query = (f'SELECT ({column_name}) FROM {source_schema}.{table_name} ' \n",
    "                                            f'ORDER BY random() LIMIT {extra_columns_length_limit};')\n",
    "                        get_values_query_res = conn_source.execute(text(get_values_query)).fetchall()\n",
    "                    conn_source.commit()\n",
    "            \n",
    "                with engine_api.begin() as conn_target:\n",
    "                    insert_values_query = (f'INSERT INTO {gen_store_schema}.ex_{table_name} ({table_name}_{column_name}) ' \n",
    "                                           f'VALUES {\", \".join([f\"({str(i[0])})\" for i in get_values_query_res])};')\n",
    "                    insert_values_query_res = conn_target.execute(text(insert_values_query))\n",
    "                    \n",
    "                    conn_target.commit()\n",
    "   \n",
    "    with engine_api.begin() as conn_target:\n",
    "        fill_generated_data_store_table_query = (res_target + res_select + res_from + ';')\n",
    "        fill_generated_data_store_table_res = conn_target.execute(text(fill_generated_data_store_table_query))\n",
    "        conn_target.commit()\n",
    "    metadata_local.drop_all(engine_api)"
   ]
  },
  {
   "cell_type": "code",
   "execution_count": 16,
   "id": "9eb99559-5ec7-4790-8569-dc0f34b257c0",
   "metadata": {},
   "outputs": [],
   "source": [
    "#fill_generated_data_store_table(metadata, **current_params)"
   ]
  },
  {
   "cell_type": "code",
   "execution_count": 17,
   "id": "6844985e-5240-42c1-9480-3b59c4b45e04",
   "metadata": {},
   "outputs": [
    {
     "name": "stdout",
     "output_type": "stream",
     "text": [
      "CPU times: user 5.82 ms, sys: 13.4 ms, total: 19.2 ms\n",
      "Wall time: 1min 8s\n"
     ]
    }
   ],
   "source": [
    "%%time\n",
    "fill_generated_data_store_table(metadata, **current_params)"
   ]
  },
  {
   "cell_type": "code",
   "execution_count": 18,
   "id": "636c060b-47b5-4170-b1ce-47e8b9866e4f",
   "metadata": {},
   "outputs": [
    {
     "data": {
      "text/plain": [
       "{'id': 1,\n",
       " 'source_schema': 'bd_shops',\n",
       " 'gen_store_schema': 'api',\n",
       " 'day_gen_store': 'day_gen_visits',\n",
       " 'external_day_gen_store': 'external_day_gen_visits',\n",
       " 'source_tables': {'employers': {'id': {'type': 'primary',\n",
       "    'data_type': 'Integer',\n",
       "    'function': 'all'}},\n",
       "  'visits': {'line_size': {'type': 'extra',\n",
       "    'data_type': 'Float',\n",
       "    'function': 'random_range'}},\n",
       "  'product': {'id': {'type': 'extra',\n",
       "    'data_type': 'Integer',\n",
       "    'function': 'all'}},\n",
       "  'shops': {'id': {'type': 'extra',\n",
       "    'data_type': 'Integer',\n",
       "    'function': 'all'}}},\n",
       " 'extra_columns_length_limit': 500,\n",
       " 'gen_records': 1,\n",
       " 'dt': datetime.datetime(2024, 3, 26, 14, 58, 0, 110787, tzinfo=datetime.timezone.utc)}"
      ]
     },
     "execution_count": 18,
     "metadata": {},
     "output_type": "execute_result"
    }
   ],
   "source": [
    "current_params"
   ]
  },
  {
   "cell_type": "code",
   "execution_count": 53,
   "id": "1f9c639c-9067-4185-992d-0e18965d8260",
   "metadata": {},
   "outputs": [],
   "source": [
    "def fill_visits_table(**kwargs):\n",
    "    source_schema = kwargs['source_schema']\n",
    "    gen_store_schema = kwargs['gen_store_schema']\n",
    "    day_gen_store = kwargs['day_gen_store']\n",
    "    gen_store_schema = kwargs['gen_store_schema']\n",
    "    gen_records = kwargs['gen_records']\n",
    "    external_day_gen_store = kwargs['external_day_gen_store']\n",
    "    incr_file_name = f'visits_incr_{datetime.datetime.now().strftime(\"%Y%m%d_%H%M\")}.csv'\n",
    "    create_ex_table_query = '''\n",
    "        CREATE TABLE {} AS\n",
    "            SELECT product_id, \n",
    "                   date as visit_date,\n",
    "                   visits_line_size as line_size,\n",
    "                   employers_id as employer_id,\n",
    "                   shops_id as shop_id\n",
    "            FROM ( \n",
    "                SELECT dv.employers_id,\n",
    "                dv.date, \n",
    "                dv.visits_line_size, \n",
    "                dv.product_id, \n",
    "                dv.shops_id, \n",
    "                ROW_NUMBER() OVER (\n",
    "                                PARTITION BY dv.employers_id \n",
    "                                ORDER BY RANDOM()) AS rn \n",
    "                FROM api.day_gen_visits dv) AS subquery \n",
    "            WHERE rn <= {}) \n",
    "    '''\n",
    "    save_visits_incr_query = '''\n",
    "        COPY (\n",
    "            SELECT product_id, \n",
    "                   date as visit_date,\n",
    "                   visits_line_size as line_size,\n",
    "                   employers_id as employer_id,\n",
    "                   shops_id as shop_id\n",
    "            FROM ( \n",
    "                SELECT dv.employers_id,\n",
    "                dv.date, \n",
    "                dv.visits_line_size, \n",
    "                dv.product_id, \n",
    "                dv.shops_id, \n",
    "                ROW_NUMBER() OVER (\n",
    "                                PARTITION BY dv.employers_id \n",
    "                                ORDER BY RANDOM()) AS rn \n",
    "                FROM api.day_gen_visits dv) AS subquery \n",
    "            WHERE rn <= {}) \n",
    "        TO '/var/lib/postgresql/GLOBAL_FILE_SHARE/{}' WITH CSV HEADER;\n",
    "    '''\n",
    "    save_visits_incr_query = save_visits_incr_query.format(gen_records, incr_file_name)\n",
    "    \n",
    "    load_visits_incr_query = '''\n",
    "        COPY bd_shops.visits (product_id, \n",
    "                              visit_date, \n",
    "                              line_size, \n",
    "                              employer_id, \n",
    "                              shop_id)\n",
    "        FROM '/var/lib/postgresql/GLOBAL_FILE_SHARE/{}'\n",
    "        DELIMITER ','\n",
    "        CSV HEADER;\n",
    "    '''\n",
    "    load_visits_incr_query = load_visits_incr_query.format(incr_file_name)\n",
    "    with engine_api.begin() as conn_api:\n",
    "        save_visits_incr_query_res = conn_api.execute(text(save_visits_incr_query))\n",
    "        conn_api.commit()\n",
    "    with engine_dwh.begin() as conn_dwh:\n",
    "        load_visits_incr_query_res = conn_dwh.execute(text(load_visits_incr_query))\n",
    "        conn_dwh.commit()\n",
    "        \n",
    "    relative_path = \"GLOBAL_FILE_SHARE/\"\n",
    "    absolute_path = os.path.join(os.getcwd(), relative_path, incr_file_name)\n",
    "    if os.path.exists(absolute_path):\n",
    "        # Delete the file\n",
    "        os.remove(absolute_path)\n",
    "        print(\"File '{}' has been deleted.\".format(incr_file_name))\n",
    "    else:\n",
    "        print(\"File '{}' does not exist.\".format(incr_file_name))"
   ]
  },
  {
   "cell_type": "code",
   "execution_count": 54,
   "id": "d2554f90-6e8a-4114-a0a4-039603ca8a17",
   "metadata": {},
   "outputs": [
    {
     "name": "stdout",
     "output_type": "stream",
     "text": [
      "File 'visits_incr_20240326_1536.csv' has been deleted.\n",
      "CPU times: user 3.94 ms, sys: 1.09 ms, total: 5.03 ms\n",
      "Wall time: 12.9 s\n"
     ]
    }
   ],
   "source": [
    "%%time\n",
    "fill_visits_table(**current_params)"
   ]
  },
  {
   "cell_type": "code",
   "execution_count": 52,
   "id": "af2581a3-1085-4bbe-a47b-56b30f0f0509",
   "metadata": {},
   "outputs": [
    {
     "name": "stdout",
     "output_type": "stream",
     "text": [
      "File 'visits_incr_20240326_1532.csv' has been deleted.\n",
      "/home/jovyan/GLOBAL_FILE_SHARE/visits_incr_20240326_1532.csv\n"
     ]
    }
   ],
   "source": []
  },
  {
   "cell_type": "code",
   "execution_count": 44,
   "id": "350a8280-d940-4d18-831a-00f14039906d",
   "metadata": {},
   "outputs": [
    {
     "data": {
      "text/plain": [
       "'/home/jovyan/GLOBAL_FILE_SHARE/visits_incr_20240326_1530/.csv'"
      ]
     },
     "execution_count": 44,
     "metadata": {},
     "output_type": "execute_result"
    }
   ],
   "source": [
    "absolute_path"
   ]
  },
  {
   "cell_type": "code",
   "execution_count": 42,
   "id": "e463c170-6ef6-459b-92bb-57dff1252f19",
   "metadata": {},
   "outputs": [
    {
     "data": {
      "text/plain": [
       "'/home/jovyan'"
      ]
     },
     "execution_count": 42,
     "metadata": {},
     "output_type": "execute_result"
    }
   ],
   "source": [
    "os.getcwd()"
   ]
  },
  {
   "cell_type": "code",
   "execution_count": 36,
   "id": "462ecb54-9cfd-4cad-beba-c8d3bf6a8657",
   "metadata": {},
   "outputs": [
    {
     "data": {
      "text/plain": [
       "{'id': 1,\n",
       " 'source_schema': 'bd_shops',\n",
       " 'gen_store_schema': 'api',\n",
       " 'day_gen_store': 'day_gen_visits',\n",
       " 'external_day_gen_store': 'external_day_gen_visits',\n",
       " 'source_tables': {'employers': {'id': {'type': 'primary',\n",
       "    'data_type': 'Integer',\n",
       "    'function': 'all'}},\n",
       "  'visits': {'line_size': {'type': 'extra',\n",
       "    'data_type': 'Float',\n",
       "    'function': 'random_range'}},\n",
       "  'product': {'id': {'type': 'extra',\n",
       "    'data_type': 'Integer',\n",
       "    'function': 'all'}},\n",
       "  'shops': {'id': {'type': 'extra',\n",
       "    'data_type': 'Integer',\n",
       "    'function': 'all'}}},\n",
       " 'extra_columns_length_limit': 500,\n",
       " 'gen_records': 1,\n",
       " 'dt': datetime.datetime(2024, 3, 26, 14, 58, 0, 110787, tzinfo=datetime.timezone.utc)}"
      ]
     },
     "execution_count": 36,
     "metadata": {},
     "output_type": "execute_result"
    }
   ],
   "source": [
    "current_params"
   ]
  },
  {
   "cell_type": "code",
   "execution_count": 23,
   "id": "601c09f3-4abb-43fb-b58a-b4de21296714",
   "metadata": {},
   "outputs": [],
   "source": []
  },
  {
   "cell_type": "code",
   "execution_count": null,
   "id": "7271917b-df4a-46d1-ac4b-2308c3fa7dc7",
   "metadata": {},
   "outputs": [],
   "source": []
  },
  {
   "cell_type": "markdown",
   "id": "c79aeccd-70f1-437f-8b94-d2b8d159fd91",
   "metadata": {},
   "source": [
    "# Test"
   ]
  },
  {
   "cell_type": "code",
   "execution_count": 4,
   "id": "9c3ecd1b-ed31-4f28-ac8c-255df8774f43",
   "metadata": {},
   "outputs": [],
   "source": [
    "import os\n",
    "\n",
    "relative_path = \"path/to/file.txt\"\n",
    "absolute_path = os.path.join(os.getcwd(), relative_path)"
   ]
  },
  {
   "cell_type": "code",
   "execution_count": 5,
   "id": "f0fe6610-970b-4687-a420-5c7fe9b5662d",
   "metadata": {},
   "outputs": [
    {
     "data": {
      "text/plain": [
       "'/home/jovyan/path/to/file.txt'"
      ]
     },
     "execution_count": 5,
     "metadata": {},
     "output_type": "execute_result"
    }
   ],
   "source": [
    "absolute_path"
   ]
  },
  {
   "cell_type": "code",
   "execution_count": null,
   "id": "397481e5-e08a-4aee-a978-0eb50844aba3",
   "metadata": {},
   "outputs": [],
   "source": [
    "COPY bd_shops.visits(product_id, visit_date, line_size, employer_id, shop_id)\n",
    "FROM '/var/lib/postgresql/file_share/test.csv'\n",
    "DELIMITER ','\n",
    "CSV HEADER;"
   ]
  },
  {
   "cell_type": "code",
   "execution_count": null,
   "id": "40b56e7c-a8b8-4cf2-a453-3e72e8e438a5",
   "metadata": {},
   "outputs": [],
   "source": []
  },
  {
   "cell_type": "code",
   "execution_count": null,
   "id": "9a8e0805-ef67-400c-a2ca-9eefcaea41ce",
   "metadata": {},
   "outputs": [],
   "source": []
  },
  {
   "cell_type": "code",
   "execution_count": null,
   "id": "2a5130f7-e132-46ab-aa2e-1c479c762233",
   "metadata": {},
   "outputs": [],
   "source": []
  },
  {
   "cell_type": "code",
   "execution_count": null,
   "id": "f87085e5-3a33-464e-aafe-af6de0b99c0a",
   "metadata": {},
   "outputs": [],
   "source": []
  },
  {
   "cell_type": "code",
   "execution_count": null,
   "id": "64885c5b-3474-4c93-9841-f8922bb50470",
   "metadata": {},
   "outputs": [],
   "source": [
    "day_gen_store_table = metadata.tables[f'{gen_store_schema}.{day_gen_store}']\n",
    "day_gen_store_columns = day_gen_store_table.columns.keys()\n",
    "day_gen_store_columns.remove('id')\n",
    "day_gen_store_columns = ', '.join(day_gen_store_columns)\n",
    "\n",
    "res = (f'INSERT INTO {gen_store_schema}.{day_gen_store} ({day_gen_store_columns}) SELECT CURRENT_DATE as date ' \n",
    "       f'')\n",
    "for table_name, columns in source_tables.items():\n",
    "    for column_name, params in columns.items():\n",
    "        if \n",
    "            res += f'{gen_store_schema}.ex_{table_name}.{table_name}_{column_name} '\n",
    "\n",
    "print(res)\n",
    "        \n",
    "        "
   ]
  },
  {
   "cell_type": "code",
   "execution_count": null,
   "id": "0bdd4bc7-afa0-402c-8980-b6b3a38e7b5b",
   "metadata": {},
   "outputs": [],
   "source": [
    "extra_tables = current_params['extra_tables']"
   ]
  },
  {
   "cell_type": "code",
   "execution_count": null,
   "id": "1a94d0d3-fe36-475e-9137-bdc55426bf45",
   "metadata": {},
   "outputs": [],
   "source": [
    "extra_tables "
   ]
  },
  {
   "cell_type": "code",
   "execution_count": null,
   "id": "bae742c7-0bda-46d5-8edb-880f13c22913",
   "metadata": {},
   "outputs": [],
   "source": [
    "for table_name, columns in extra_tables.items():\n",
    "        for column_name, params in columns.items():\n",
    "            print(f'{table_name}_{column_name}', (params['data_type']))"
   ]
  },
  {
   "cell_type": "code",
   "execution_count": null,
   "id": "9272f22d-4f37-411d-a3c6-c9bb77597af2",
   "metadata": {},
   "outputs": [],
   "source": []
  },
  {
   "cell_type": "code",
   "execution_count": null,
   "id": "5144a410-7e00-427b-9e9c-be699b8617f2",
   "metadata": {},
   "outputs": [],
   "source": [
    "import itertools"
   ]
  },
  {
   "cell_type": "code",
   "execution_count": null,
   "id": "ebcb2497-9b56-48d1-b581-32b38fef21ee",
   "metadata": {},
   "outputs": [],
   "source": [
    "l1 = [(22,), (15,), (19,), (5,), (29,), (4,), (10,), (35,), (6,), (31,), (14,), (13,), (2,), (7,), (38,), (20,), (1,), (18,), (27,), (8,), (11,), (9,), (26,), (30,), (21,), (3,), (17,), (37,), (28,), (34,), (39,), (36,), (16,), (32,), (12,), (24,), (25,), (33,), (23,)]\n",
    "\n",
    "l1_flat = list(itertools.chain(*l1))"
   ]
  },
  {
   "cell_type": "code",
   "execution_count": null,
   "id": "2bedf1ac-411d-4bce-ba5d-da09ec0cfc5c",
   "metadata": {},
   "outputs": [],
   "source": [
    "print(l1[0])"
   ]
  },
  {
   "cell_type": "code",
   "execution_count": null,
   "id": "0c4cd224-c48c-45dc-bf81-c95c96bb00e6",
   "metadata": {},
   "outputs": [],
   "source": [
    "f'INSERT {l1_flat}'"
   ]
  },
  {
   "cell_type": "code",
   "execution_count": null,
   "id": "de692ffc-a43c-4a02-9cf6-5686287647b4",
   "metadata": {},
   "outputs": [],
   "source": []
  },
  {
   "cell_type": "code",
   "execution_count": null,
   "id": "88efdaa7-a4c0-4d6c-bfda-dc46184ddf80",
   "metadata": {},
   "outputs": [],
   "source": [
    "l1 = [(22,), (15,), (19,), (5,), (29,), (4,), (10,), (35,), (6,), (31,), (14,), (13,), (2,), (7,), (38,), (20,), (1,), (18,), (27,), (8,), (11,), (9,), (26,), (30,), (21,), (3,), (17,), (37,), (28,), (34,), (39,), (36,), (16,), (32,), (12,), (24,), (25,), (33,), (23,)]\n",
    "\n",
    "print(f'INSERT INTO `pand` (`id`, `name`) VALUES {\", \".join([str(i[0]) for i in l1])};')"
   ]
  },
  {
   "cell_type": "code",
   "execution_count": null,
   "id": "eab9828d-0c7f-4570-91b3-bf721458c47d",
   "metadata": {},
   "outputs": [],
   "source": []
  },
  {
   "cell_type": "code",
   "execution_count": null,
   "id": "018be757-07ff-442c-a3b1-4a66400f5d84",
   "metadata": {},
   "outputs": [],
   "source": []
  },
  {
   "cell_type": "code",
   "execution_count": null,
   "id": "f74fe0ad-f119-4d0f-873f-b630ccee9635",
   "metadata": {},
   "outputs": [],
   "source": [
    "check_test = check_filling_generated_data_store_table(metadata, **default_params)"
   ]
  },
  {
   "cell_type": "code",
   "execution_count": null,
   "id": "f78c88a9-f067-49e1-b116-d6b7739692b2",
   "metadata": {},
   "outputs": [],
   "source": [
    "check_test['employers_cat_values'][0]"
   ]
  },
  {
   "cell_type": "code",
   "execution_count": null,
   "id": "77d6cdfc-1d29-4eb9-9074-77689298316b",
   "metadata": {},
   "outputs": [],
   "source": [
    "for i in check_test:\n",
    "    random.shuffle(check_test[i])"
   ]
  },
  {
   "cell_type": "code",
   "execution_count": null,
   "id": "19b74260-2014-41f5-9102-a87f88eff8d9",
   "metadata": {},
   "outputs": [],
   "source": []
  },
  {
   "cell_type": "code",
   "execution_count": null,
   "id": "a76aeca3-d028-4101-b627-27f0f9f23d09",
   "metadata": {},
   "outputs": [],
   "source": []
  },
  {
   "cell_type": "code",
   "execution_count": null,
   "id": "5a0c6124-05fe-4fcc-9f07-54ba3c2142a0",
   "metadata": {},
   "outputs": [],
   "source": []
  },
  {
   "cell_type": "code",
   "execution_count": null,
   "id": "7ac82f1e-4b8f-409c-8568-6395a124380a",
   "metadata": {},
   "outputs": [],
   "source": [
    "t = {'employers': {'id': {'type': 'primary',\n",
    "    'data_type': 'Integer',\n",
    "    'function': 'all'}},\n",
    "  'visits': {'line_size': {'type': 'extra',\n",
    "    'data_type': 'Float',\n",
    "    'function': 'random_range'}},\n",
    "  'product': {'id': {'type': 'extra',\n",
    "    'data_type': 'Integer',\n",
    "    'function': 'all'}},\n",
    "  'shops': {'id': {'type': 'extra',\n",
    "    'data_type': 'Integer',\n",
    "    'function': 'all'}}}\n",
    "\n",
    "\n",
    "result = \"\"\n",
    "for key, value in t.items():\n",
    "    print(key)\n",
    "    print(value)"
   ]
  },
  {
   "cell_type": "code",
   "execution_count": null,
   "id": "aad8e3a8-a934-405e-92c3-4c3dbf8451cf",
   "metadata": {},
   "outputs": [],
   "source": [
    "if value['type'] == 'primary':\n",
    "        result += f\"{key} primary \"\n",
    "    elif value['type'] == 'extra':\n",
    "        result += f\"{key} extra \"\n",
    "print(result.strip())"
   ]
  },
  {
   "cell_type": "code",
   "execution_count": null,
   "id": "985e120a-3199-4f94-b22e-070545e303f1",
   "metadata": {},
   "outputs": [],
   "source": []
  },
  {
   "cell_type": "code",
   "execution_count": null,
   "id": "6e5714a6-b26c-4043-ab93-ec973a49d3d7",
   "metadata": {},
   "outputs": [],
   "source": []
  },
  {
   "cell_type": "code",
   "execution_count": null,
   "id": "cfd5e32c-311e-467a-b451-7b24e5370a93",
   "metadata": {},
   "outputs": [],
   "source": [
    "default_params['extra_tables']"
   ]
  },
  {
   "cell_type": "code",
   "execution_count": null,
   "id": "99f933fb-e182-4c2e-94f6-761457b61d59",
   "metadata": {},
   "outputs": [],
   "source": [
    "for table, column in default_params['extra_tables'].items():\n",
    "    print(default_params['extra_tables'][table])\n",
    "    for column in default_params['extra_tables'][table]:\n",
    "        print(column)"
   ]
  },
  {
   "cell_type": "code",
   "execution_count": null,
   "id": "c1201f49-b5ce-43f6-a9cc-2b64c95eaccf",
   "metadata": {},
   "outputs": [],
   "source": [
    "default_params['extra_tables']['visits']['line_size']['data_type']"
   ]
  },
  {
   "cell_type": "code",
   "execution_count": null,
   "id": "51fe91c6-87fb-4b60-9f86-fc503d267641",
   "metadata": {},
   "outputs": [],
   "source": [
    "def visit_gen():\n",
    "    l1 = list(range(1, 55))\n",
    "    l2 = list(range(1, 44))\n",
    "    random.shuffle(l1)\n",
    "    random.shuffle(l2)\n",
    "    n1 = list(range(1, 6))\n",
    "    for i,j,n in zip(l1, l2, n1):\n",
    "        print(str(f'{i} - {j}'))"
   ]
  },
  {
   "cell_type": "code",
   "execution_count": null,
   "id": "c00e8171-bceb-473c-9479-c61f041f9daf",
   "metadata": {},
   "outputs": [],
   "source": [
    "l1 = list(range(1, 9999))\n",
    "l2 = list(range(1, 499))\n",
    "l3 = list(range(1, 36))\n",
    "l4 = list(range(1, 499))\n",
    "random.shuffle(l1)\n",
    "random.shuffle(l2)\n",
    "random.shuffle(l3)\n",
    "random.shuffle(l4)"
   ]
  },
  {
   "cell_type": "code",
   "execution_count": null,
   "id": "89c715d6-b938-4144-b55a-18060609c473",
   "metadata": {},
   "outputs": [],
   "source": [
    "zip(l1, l2, l3, l4)\n",
    "for i,j,n,k in zip(l1, l2, l3,l4):\n",
    "    print(str(f'{i} - {j} - {n}, {k}'))"
   ]
  },
  {
   "cell_type": "code",
   "execution_count": null,
   "id": "24bd5df7-73f6-4b83-855e-ede76f5887c2",
   "metadata": {},
   "outputs": [],
   "source": [
    "import random\n",
    "\n",
    "#Define the range and precision\n",
    "start_range = 0.0 \n",
    "end_range = 1.0 \n",
    "precision = 0\n",
    "\n",
    "#Define the number of values to generate\n",
    "num_values = 5\n",
    "\n",
    "#Generate the list of random values\n",
    "random_values = [round(random.uniform(start_range, end_range), precision) for i in range(num_values)]\n",
    "\n",
    "print(random_values)"
   ]
  },
  {
   "cell_type": "code",
   "execution_count": null,
   "id": "f3d78f2a-93ae-4fb9-9a0d-701616d2a365",
   "metadata": {},
   "outputs": [],
   "source": []
  },
  {
   "cell_type": "code",
   "execution_count": null,
   "id": "df58c859-c735-4465-aa10-bc818e6f2762",
   "metadata": {},
   "outputs": [],
   "source": []
  },
  {
   "cell_type": "code",
   "execution_count": null,
   "id": "6e775766-9dcb-4ca9-9086-54b6dcc33585",
   "metadata": {},
   "outputs": [],
   "source": [
    "sql_dict = {'l1': [1, 3, 5, 7],\n",
    "            'l2': [2, 7, 1],\n",
    "            'l3': [1, 88, 12, 44, 66, 888]}"
   ]
  },
  {
   "cell_type": "code",
   "execution_count": null,
   "id": "7a4f6f73-4e8c-46b9-8b8a-cc82bbad4b01",
   "metadata": {},
   "outputs": [],
   "source": [
    "import pandas as pd\n",
    "from itertools import product\n",
    "\n",
    "sql_dict = {'l1': [1,3,5,7],\n",
    "            'l2': [2,7,1],\n",
    "            'l3': [1,88,12,44,66,888]}\n",
    "\n",
    "# Create all possible combinations of values from the dictionary\n",
    "combinations = list(product(*sql_dict.values()))\n",
    "\n",
    "# Create a DataFrame with the combinations as rows and dictionary keys as columns\n",
    "df = pd.DataFrame(combinations, columns=sql_dict.keys())\n",
    "\n",
    "# Print the DataFrame\n",
    "print(df)"
   ]
  },
  {
   "cell_type": "code",
   "execution_count": null,
   "id": "e54b2a04-2b19-4801-b10c-c9959ec5518e",
   "metadata": {},
   "outputs": [],
   "source": [
    "combinations"
   ]
  },
  {
   "cell_type": "code",
   "execution_count": null,
   "id": "4863fabd-d5f6-47fc-89c1-a9311e21d320",
   "metadata": {},
   "outputs": [],
   "source": [
    "sql_dict['l1']"
   ]
  },
  {
   "cell_type": "code",
   "execution_count": null,
   "id": "5f9d2ef7-d856-42ff-aa6f-2895d3a02de7",
   "metadata": {},
   "outputs": [],
   "source": [
    "import itertools\n",
    "\n",
    "sql_dict ={'l1': list(range(1, 499)),\n",
    "           'l2': list(range(1, 9999)),\n",
    "           'l3': list(range(1, 36))}\n",
    "\n",
    "# Create a list of all possible combinations of values from the dictionary\n",
    "combinations = list(itertools.product(*sql_dict.values()))\n",
    "\n",
    "# Create a table with columns corresponding to the keys of the dictionary\n",
    "table = {key: [] for key in sql_dict.keys()}\n",
    "\n",
    "# Populate the table with the combinations of values\n",
    "for combination in combinations:\n",
    "    for key, value in zip(sql_dict.keys(), combination):\n",
    "        table[key].append(value)\n",
    "\n",
    "# Print the table\n",
    "for key, values in table.items():\n",
    "    print(f\"{key}: {values}\")"
   ]
  },
  {
   "cell_type": "code",
   "execution_count": null,
   "id": "22c98455-d4eb-4c8e-9fb5-b5cc1f31d7a4",
   "metadata": {},
   "outputs": [],
   "source": [
    "import pandas as pd\n",
    "import itertools\n",
    "\n",
    "# Create a sample DataFrame\n",
    "data = {\n",
    "    'Column1': [1, 2, 3],\n",
    "    'Column2': ['A', 'C'],\n",
    "    'Column3': ['X', 'Y', 'Z']\n",
    "}\n",
    "\n",
    "# Get all possible combinations of values\n",
    "combinations = list(itertools.product(data['Column1'], data['Column2'], data['Column3']))\n",
    "\n",
    "# Print the result\n",
    "print(combinations)"
   ]
  },
  {
   "cell_type": "code",
   "execution_count": null,
   "id": "ac7faa61-515b-4d75-a279-a344cb2e4134",
   "metadata": {},
   "outputs": [],
   "source": [
    "l1 = [(22,), (15,), (19,), (5,), (29,), (4,), (10,), (35,), (6,), (31,), (14,), (13,), (2,), (7,), (38,), (20,), (1,), (18,), (27,), (8,), (11,), (9,), (26,), (30,), (21,), (3,), (17,), (37,), (28,), (34,), (39,), (36,), (16,), (32,), (12,), (24,), (25,), (33,), (23,)]\n",
    "\n",
    "print(f'{\", \".join(f\"({str(x[0])})\" for x in l1)}')"
   ]
  },
  {
   "cell_type": "code",
   "execution_count": null,
   "id": "a4c34040-6af6-4e1a-b4ed-70f3d147c546",
   "metadata": {},
   "outputs": [],
   "source": []
  }
 ],
 "metadata": {
  "kernelspec": {
   "display_name": "Python 3 (ipykernel)",
   "language": "python",
   "name": "python3"
  },
  "language_info": {
   "codemirror_mode": {
    "name": "ipython",
    "version": 3
   },
   "file_extension": ".py",
   "mimetype": "text/x-python",
   "name": "python",
   "nbconvert_exporter": "python",
   "pygments_lexer": "ipython3",
   "version": "3.9.10"
  }
 },
 "nbformat": 4,
 "nbformat_minor": 5
}
