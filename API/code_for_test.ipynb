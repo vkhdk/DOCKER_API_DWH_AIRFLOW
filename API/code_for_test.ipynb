{
 "cells": [
  {
   "cell_type": "code",
   "execution_count": 1,
   "metadata": {},
   "outputs": [],
   "source": [
    "import requests"
   ]
  },
  {
   "cell_type": "code",
   "execution_count": 9,
   "metadata": {},
   "outputs": [
    {
     "name": "stdout",
     "output_type": "stream",
     "text": [
      "{\"message\":\"Parameters updated. New parameters >{'launched': 'True', 'gen_records': 2}<\"}\n",
      "\n"
     ]
    }
   ],
   "source": [
    "url = 'http://localhost:4000/update_param'\n",
    "data = {\"gen_records_params\": {\"launched\": 'True', 'gen_records': 2}}\n",
    "response = requests.post(url, json=data, auth=('ivan', 'ivan123'))\n",
    "\n",
    "print(response.text)"
   ]
  },
  {
   "cell_type": "code",
   "execution_count": 4,
   "metadata": {},
   "outputs": [],
   "source": [
    "json_string = '''\n",
    "[{'product_id':4864,'visit_date':'2022-11-01','line_size':39.08,'employer_id':438,'shop_id':30}, \n",
    " {'product_id':466,'visit_date':'2022-03-22','line_size':114.01,'employer_id':42,'shop_id':10}, \n",
    " {'product_id':5856,'visit_date':'2023-04-10','line_size':88.47,'employer_id':211,'shop_id':6}, \n",
    " {'product_id':691,'visit_date':'2022-05-10','line_size':3.53,'employer_id':390,'shop_id':10}, \n",
    " {'product_id':4178,'visit_date':'2022-06-30','line_size':104.97,'employer_id':226,'shop_id':37}, \n",
    " {'product_id':5835,'visit_date':'2022-10-17','line_size':49.24,'employer_id':317,'shop_id':15}, \n",
    " {'product_id':4333,'visit_date':'2022-07-14','line_size':137.06,'employer_id':13,'shop_id':20}, \n",
    " {'product_id':667,'visit_date':'2023-02-18','line_size':133.87,'employer_id':101,'shop_id':6}, \n",
    " {'product_id':9204,'visit_date':'2023-05-12','line_size':45.1,'employer_id':24,'shop_id':10}, \n",
    " {'product_id':1349,'visit_date':'2023-05-06','line_size':89.88,'employer_id':163,'shop_id':38}]\n",
    " '''"
   ]
  },
  {
   "cell_type": "code",
   "execution_count": 5,
   "metadata": {},
   "outputs": [
    {
     "name": "stdout",
     "output_type": "stream",
     "text": [
      "{\"message\":\"Successfully added 10 rows\"}\n",
      "\n"
     ]
    }
   ],
   "source": [
    "url = 'http://localhost:4000/write_visits_from_json'\n",
    "data = {\"visits_data\": f\"{json_string}\"}\n",
    "response = requests.post(url, json=data, auth=('ivan', 'ivan123'))\n",
    "print(response.text)"
   ]
  },
  {
   "cell_type": "code",
   "execution_count": 6,
   "metadata": {},
   "outputs": [
    {
     "name": "stdout",
     "output_type": "stream",
     "text": [
      "{\"message\":\"10 rows entered. Successfully deleted 20 rows\"}\n",
      "\n"
     ]
    }
   ],
   "source": [
    "url = 'http://localhost:4000/delete_visits_from_json'\n",
    "data = {\"visits_data\": f\"{json_string}\"}\n",
    "response = requests.post(url, json=data, auth=('ivan', 'ivan123'))\n",
    "print(response.text)"
   ]
  },
  {
   "cell_type": "code",
   "execution_count": null,
   "metadata": {},
   "outputs": [],
   "source": []
  },
  {
   "cell_type": "code",
   "execution_count": 53,
   "metadata": {},
   "outputs": [],
   "source": [
    "products_text = 'Помидоры, Креветки'\n",
    "start_date = '2020-12-30'\n",
    "end_date = '2024-12-31'"
   ]
  },
  {
   "cell_type": "code",
   "execution_count": 54,
   "metadata": {},
   "outputs": [
    {
     "name": "stdout",
     "output_type": "stream",
     "text": [
      "{\"message\":\"[{'shop_id': 1, 'product_name': 'Помидоры', 'revizion_date': '2023-06-08', 'total_count': 5, 'total_value': 477, 'nearest_price': 422}, {'shop_id': 2, 'product_name': 'Креветки', 'revizion_date': '2023-09-04', 'total_count': 15, 'total_value': 2888, 'nearest_price': 155}, {'shop_id': 5, 'product_name': 'Креветки', 'revizion_date': '2023-07-18', 'total_count': 1, 'total_value': 74, 'nearest_price': 262}, {'shop_id': 6, 'product_name': 'Помидоры', 'revizion_date': '2023-12-24', 'total_count': 12, 'total_value': 562, 'nearest_price': 676}, {'shop_id': 7, 'product_name': 'Помидоры', 'revizion_date': '2023-08-05', 'total_count': 11, 'total_value': 772, 'nearest_price': 237}, {'shop_id': 10, 'product_name': 'Креветки', 'revizion_date': '2023-01-14', 'total_count': 15, 'total_value': 1155, 'nearest_price': 353}, {'shop_id': 12, 'product_name': 'Помидоры', 'revizion_date': '2023-09-19', 'total_count': 4, 'total_value': 209, 'nearest_price': 224}, {'shop_id': 14, 'product_name': 'Помидоры', 'revizion_date': '2022-03-21', 'total_count': 17, 'total_value': 1683, 'nearest_price': 170}, {'shop_id': 14, 'product_name': 'Помидоры', 'revizion_date': '2023-06-02', 'total_count': 4, 'total_value': 173, 'nearest_price': 286}, {'shop_id': 16, 'product_name': 'Помидоры', 'revizion_date': '2023-09-06', 'total_count': 16, 'total_value': 1152, 'nearest_price': 676}, {'shop_id': 20, 'product_name': 'Помидоры', 'revizion_date': '2023-06-27', 'total_count': 15, 'total_value': 1431, 'nearest_price': 591}, {'shop_id': 20, 'product_name': 'Помидоры', 'revizion_date': '2023-10-15', 'total_count': 12, 'total_value': 778, 'nearest_price': 14}, {'shop_id': 24, 'product_name': 'Креветки', 'revizion_date': '2022-06-25', 'total_count': 16, 'total_value': 1736, 'nearest_price': 645}, {'shop_id': 24, 'product_name': 'Помидоры', 'revizion_date': '2023-03-25', 'total_count': 10, 'total_value': 1026, 'nearest_price': 289}, {'shop_id': 26, 'product_name': 'Креветки', 'revizion_date': '2023-06-26', 'total_count': 0, 'total_value': 0, 'nearest_price': 693}, {'shop_id': 27, 'product_name': 'Помидоры', 'revizion_date': '2023-07-18', 'total_count': 15, 'total_value': 810, 'nearest_price': 839}, {'shop_id': 30, 'product_name': 'Креветки', 'revizion_date': '2023-05-21', 'total_count': 7, 'total_value': 1396, 'nearest_price': 765}, {'shop_id': 31, 'product_name': 'Помидоры', 'revizion_date': '2023-01-25', 'total_count': 11, 'total_value': 614, 'nearest_price': 577}, {'shop_id': 33, 'product_name': 'Помидоры', 'revizion_date': '2023-09-22', 'total_count': 12, 'total_value': 562, 'nearest_price': 497}, {'shop_id': 34, 'product_name': 'Креветки', 'revizion_date': '2023-05-02', 'total_count': 8, 'total_value': 1540, 'nearest_price': 17}, {'shop_id': 39, 'product_name': 'Креветки', 'revizion_date': '2023-03-29', 'total_count': 7, 'total_value': 1152, 'nearest_price': 969}]\"}\n",
      "\n"
     ]
    }
   ],
   "source": [
    "url = 'http://localhost:4000/get_data_dm_revizion'\n",
    "data = {\"dm_revizion_data\": {\"products_text\": products_text, 'start_date': start_date, 'end_date': end_date}}\n",
    "response = requests.post(url, json=data, auth=('ivan', 'ivan123'))\n",
    "\n",
    "print(response.text)"
   ]
  },
  {
   "cell_type": "code",
   "execution_count": null,
   "metadata": {},
   "outputs": [],
   "source": []
  }
 ],
 "metadata": {
  "kernelspec": {
   "display_name": "Python 3",
   "language": "python",
   "name": "python3"
  },
  "language_info": {
   "codemirror_mode": {
    "name": "ipython",
    "version": 3
   },
   "file_extension": ".py",
   "mimetype": "text/x-python",
   "name": "python",
   "nbconvert_exporter": "python",
   "pygments_lexer": "ipython3",
   "version": "3.11.4"
  }
 },
 "nbformat": 4,
 "nbformat_minor": 2
}
