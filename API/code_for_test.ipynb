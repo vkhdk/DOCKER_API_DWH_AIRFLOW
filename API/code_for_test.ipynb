{
 "cells": [
  {
   "cell_type": "code",
   "execution_count": 1,
   "metadata": {},
   "outputs": [],
   "source": [
    "import requests"
   ]
  },
  {
   "cell_type": "code",
   "execution_count": 5,
   "metadata": {},
   "outputs": [
    {
     "name": "stdout",
     "output_type": "stream",
     "text": [
      "{\"message\":\"Parameters updated. New parameters >{'launched': 'True', 'gen_records': 2}<\"}\n",
      "\n"
     ]
    }
   ],
   "source": [
    "url = 'http://localhost:4000/update_param'\n",
    "data = {\"gen_records_params\": {\"launched\": 'True', 'gen_records': 2}}\n",
    "response = requests.post(url, json=data, auth=('ivan', 'ivan123'))\n",
    "\n",
    "print(response.text)"
   ]
  },
  {
   "cell_type": "code",
   "execution_count": 3,
   "metadata": {},
   "outputs": [],
   "source": [
    "json_string = '''\n",
    "[{'product_id':4864,'visit_date':'2022-11-01','line_size':39.08,'employer_id':438,'shop_id':30}, \n",
    " {'product_id':466,'visit_date':'2022-03-22','line_size':114.01,'employer_id':42,'shop_id':10}, \n",
    " {'product_id':5856,'visit_date':'2023-04-10','line_size':88.47,'employer_id':211,'shop_id':6}, \n",
    " {'product_id':691,'visit_date':'2022-05-10','line_size':3.53,'employer_id':390,'shop_id':10}, \n",
    " {'product_id':4178,'visit_date':'2022-06-30','line_size':104.97,'employer_id':226,'shop_id':37}, \n",
    " {'product_id':5835,'visit_date':'2022-10-17','line_size':49.24,'employer_id':317,'shop_id':15}, \n",
    " {'product_id':4333,'visit_date':'2022-07-14','line_size':137.06,'employer_id':13,'shop_id':20}, \n",
    " {'product_id':667,'visit_date':'2023-02-18','line_size':133.87,'employer_id':101,'shop_id':6}, \n",
    " {'product_id':9204,'visit_date':'2023-05-12','line_size':45.1,'employer_id':24,'shop_id':10}, \n",
    " {'product_id':1349,'visit_date':'2023-05-06','line_size':89.88,'employer_id':163,'shop_id':38}]\n",
    " '''"
   ]
  },
  {
   "cell_type": "code",
   "execution_count": 4,
   "metadata": {},
   "outputs": [
    {
     "name": "stdout",
     "output_type": "stream",
     "text": [
      "{\"message\":\"Successfully added 10 rows\"}\n",
      "\n"
     ]
    }
   ],
   "source": [
    "url = 'http://localhost:4000/write_visits_from_json'\n",
    "data = {\"visits_data\": f\"{json_string}\"}\n",
    "response = requests.post(url, json=data, auth=('ivan', 'ivan123'))\n",
    "print(response.text)"
   ]
  },
  {
   "cell_type": "code",
   "execution_count": null,
   "metadata": {},
   "outputs": [],
   "source": []
  }
 ],
 "metadata": {
  "kernelspec": {
   "display_name": "Python 3",
   "language": "python",
   "name": "python3"
  },
  "language_info": {
   "codemirror_mode": {
    "name": "ipython",
    "version": 3
   },
   "file_extension": ".py",
   "mimetype": "text/x-python",
   "name": "python",
   "nbconvert_exporter": "python",
   "pygments_lexer": "ipython3",
   "version": "3.11.4"
  }
 },
 "nbformat": 4,
 "nbformat_minor": 2
}
